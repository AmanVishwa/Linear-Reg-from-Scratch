{
 "cells": [
  {
   "cell_type": "code",
   "execution_count": 1,
   "id": "f8e7025c",
   "metadata": {},
   "outputs": [],
   "source": [
    "import numpy as np\n",
    "import matplotlib.pyplot as plt\n",
    "from sklearn.model_selection import train_test_split\n",
    "import time"
   ]
  },
  {
   "cell_type": "markdown",
   "id": "d7ec5b8a",
   "metadata": {},
   "source": [
    "### 1. Write a function to generate a data matrix X. Inputs: Number of samples, feature dimension. Output: Data matrix X.    "
   ]
  },
  {
   "cell_type": "code",
   "execution_count": 2,
   "id": "d5f4fc72",
   "metadata": {},
   "outputs": [],
   "source": [
    "#define a function to calculate data matrix X\n",
    "def data_matrix(samples,dim):\n",
    "    #for returning random output in every execution according to number of sample and feature dimension\n",
    "    return np.random.normal(size=(samples, dim))"
   ]
  },
  {
   "cell_type": "code",
   "execution_count": 3,
   "id": "8eac485e",
   "metadata": {},
   "outputs": [],
   "source": [
    "# unit test\n",
    "# x = data_matrix(100,5)\n",
    "# x"
   ]
  },
  {
   "cell_type": "markdown",
   "id": "2f2f4815",
   "metadata": {},
   "source": [
    "### 2. Write a function to generate dependent variable column t.                                                                                \n",
    "a) Inputs: Data matrix X, weight vector for each column, bias w0, noise variance\n",
    "\n",
    "b) Output: Target vector t"
   ]
  },
  {
   "cell_type": "code",
   "execution_count": 4,
   "id": "f54761e0",
   "metadata": {},
   "outputs": [],
   "source": [
    "# this function uses the numpy.random.normal function to generate random numbers with a normal distribution. \n",
    "# The loc parameter specifies the mean of the distribution, which is set to 0. \n",
    "# The scale parameter specifies the standard deviation of the distribution,\n",
    "# which is set to the value of the std_dev input argument.\n",
    "# The size parameter specifies the number of random numbers to generate.\n",
    "#generates an array of random numbers that follows a normal distribution with a mean of 0 and a standard deviation of \"noise_variance\"\n",
    "def noise_def(std_dev,s):\n",
    "    return np.random.normal(0, scale=std_dev, size=s)\n",
    "\n",
    "#As we have to generate the dependent variable t\n",
    "#Acoording to {t = (x*w) + w0 + noise}\n",
    "def depend_t(X, weight, w0, std_var):\n",
    "    # To calculate the dot product of X and weights\n",
    "    dot_prod = np.dot(X, weight)\n",
    "    # To add the bias in the dot product\n",
    "    dot_prod =  dot_prod + w0\n",
    "    #to get shape of above dot product\n",
    "    shape_dot_prod = dot_prod.shape\n",
    "    # adding noise to the dot product\n",
    "    noise = noise_def(std_var,shape_dot_prod)\n",
    "    t = dot_prod + noise\n",
    "    return t"
   ]
  },
  {
   "cell_type": "code",
   "execution_count": 5,
   "id": "1f15c542",
   "metadata": {},
   "outputs": [],
   "source": [
    "# unit testing\n",
    "# x = data_matrix(100,5)\n",
    "# w = np.random.normal(5)\n",
    "# w0 = 5\n",
    "# std_dev = 0.1\n",
    "# t = depend_t(x,w,w0,std_dev)\n",
    "# print(t)"
   ]
  },
  {
   "cell_type": "markdown",
   "id": "2feabf73",
   "metadata": {},
   "source": [
    "### 3. Write a function to compute a linear regression estimate.\n",
    "\n",
    "a) Input: data matrix X and weight vector w\n",
    "\n",
    "b) Output: y"
   ]
  },
  {
   "cell_type": "code",
   "execution_count": 6,
   "id": "e894a0a2",
   "metadata": {},
   "outputs": [],
   "source": [
    "# define function to compute a linear regression estimate\n",
    "def linear_reg_estim(X, w):# here x is data matrix and w is weight vector\n",
    "    # matrix multiplication using \"@\" operator\n",
    "    y = ((np.dot(X, w)) + w0)\n",
    "    return y\n",
    "# def linear_reg_estim(X, w):\n",
    "#     # Add column of ones to X for bias term\n",
    "#     X = np.hstack((np.ones((X.shape[0], 1)), X))\n",
    "#     # Compute the linear regression estimate\n",
    "#     y = np.dot(X, np.hstack((w0,w)))\n",
    "#     return y"
   ]
  },
  {
   "cell_type": "code",
   "execution_count": 7,
   "id": "5124fd7b",
   "metadata": {},
   "outputs": [],
   "source": [
    "# unit testing\n",
    "# X = data_matrix(100,5)\n",
    "# w = np.random.randn(5)\n",
    "# w0 = 5\n",
    "# y = linear_reg_estim(X,w)\n",
    "# print(y)"
   ]
  },
  {
   "cell_type": "markdown",
   "id": "cf344abf",
   "metadata": {},
   "source": [
    "### 4.Write a function to compute the mean square error of two vectors y and t."
   ]
  },
  {
   "cell_type": "code",
   "execution_count": 8,
   "id": "edd7071a",
   "metadata": {},
   "outputs": [],
   "source": [
    "# define function to compute the mean square error\n",
    "def MSE(y,t):\n",
    "    error = np.sum(np.square(y,t)) / (np.shape(y)[0]) #MSE to calculation formula\n",
    "    return error"
   ]
  },
  {
   "cell_type": "code",
   "execution_count": 9,
   "id": "d20b8936",
   "metadata": {},
   "outputs": [],
   "source": [
    "# # unit testing\n",
    "# X = data_matrix(100,5)\n",
    "# w = np.random.randn(5)\n",
    "# std_dev = 0.1\n",
    "# w0 = 5\n",
    "# t = depend_t(X,w,w0,std_dev)\n",
    "# y = linear_reg_estim(X,w)\n",
    "# mse = MSE(y,t)\n",
    "# mse\n"
   ]
  },
  {
   "cell_type": "markdown",
   "id": "889f6beb",
   "metadata": {},
   "source": [
    "### 5. Write a function to estimate the weights of linear regression using pseudo-inverse, assuming L2 regularization\n",
    "a) Input: X, t, and lambda\n",
    "\n",
    "b) Output: w, MSE, y"
   ]
  },
  {
   "cell_type": "code",
   "execution_count": 45,
   "id": "8ae964ef",
   "metadata": {},
   "outputs": [],
   "source": [
    "# The input to the function is a matrix X of feature values, a vector t of target values, and a scalar\n",
    "# lamda representing the regularization strength. The output is a vector w of weights,\n",
    "# a scalar MSE representing the mean squared error between the predicted and actual target values,\n",
    "# and a vector y of predicted target values.\n",
    "def linear_regression_pinv(X, t, lamda):\n",
    "    \n",
    "    # Add a column of ones to the input matrix X for the bias term\n",
    "    # X = np.hstack((np.ones((X.shape[0], 1)), X))\n",
    "    I = np.identity(X.shape[1]) #np.identity for the identity matrix\n",
    "    # Calculate the weights\n",
    "    #this function uses the numpy library and its function np.linalg.pinv for the pseudo-inverse calculation\n",
    "    w = np.linalg.pinv(X.T @ X + lamda * I) @ X.T @ t #where (lamda * I) is the regulaization term\n",
    "    y = linear_reg_estim(X,w)\n",
    "    loss_Mse = MSE(y,t)# a scalar MSE representing the mean squared error between the predicted and actual target values,\n",
    "    return w,y,loss_Mse\n",
    "\n"
   ]
  },
  {
   "cell_type": "code",
   "execution_count": 47,
   "id": "1169887c",
   "metadata": {},
   "outputs": [],
   "source": [
    "# unit testing\n",
    "# X = data_matrix(100,5)\n",
    "# w = np.random.randn(5)\n",
    "# std_dev = 0.1\n",
    "# w0 = 5\n",
    "# t = depend_t(X,w,w0,std_dev)\n",
    "# w,y,loss_Mse = linear_regression_pinv(X,t,0.2)\n",
    "# print(w,y,loss_Mse)"
   ]
  },
  {
   "cell_type": "markdown",
   "id": "0651ad49",
   "metadata": {},
   "source": [
    "### 6. Write a function to compute the gradient of MSE with respect to its weight vector.\n",
    "a) Input: X matrix, t vector, and w vector\n",
    "\n",
    "b) Output: gradient vector "
   ]
  },
  {
   "cell_type": "code",
   "execution_count": 12,
   "id": "23dcdddf",
   "metadata": {},
   "outputs": [],
   "source": [
    "# The input to the function is a matrix X of feature values,\n",
    "# a vector t of target values, and a vector w of weights. \n",
    "# The output is a gradient vector.\n",
    "# This function calculates the dot product of X and w (y)\n",
    "# which is the prediction, then computes the gradient of the MSE \n",
    "# by taking the derivative of the MSE function with respect to w.\n",
    "# The gradient is the sum of the product of the transpose of X\n",
    "# and the difference between y and t, all divided by the number of samples\n",
    "def mse_grad(X, t, w):\n",
    "    y = linear_reg_estim(X,w)\n",
    "    N = np.shape(X)[0] # to calculate number of samples\n",
    "    grad = (2*X.T) @ (y - t) / N #applying gradient MSE formula\n",
    "    return grad\n",
    "\n",
    "    "
   ]
  },
  {
   "cell_type": "code",
   "execution_count": 13,
   "id": "4b222c03",
   "metadata": {},
   "outputs": [],
   "source": [
    "# unit testing\n",
    "# X = data_matrix(100,5)\n",
    "# w = np.random.randn(5)\n",
    "# std_dev = 0.1\n",
    "# w0 = 5\n",
    "# t = depend_t(X,w,w0,std_dev)\n",
    "# grad = mse_grad(X,t,w)\n",
    "# print(grad)"
   ]
  },
  {
   "cell_type": "markdown",
   "id": "15587c03",
   "metadata": {},
   "source": [
    "### 7. Write a function to compute L2 norm of a vector w passed as a numpy array. Exclude bias w0. "
   ]
  },
  {
   "cell_type": "code",
   "execution_count": 14,
   "id": "76100ed6",
   "metadata": {},
   "outputs": [],
   "source": [
    "#define a function to compute L2 norm\n",
    "def L2_norm(w):\n",
    "    # exclude bias term (w0)\n",
    "    w = w[1:]\n",
    "    # calculate L2 norm\n",
    "    norm = np.linalg.norm(w)\n",
    "    return norm"
   ]
  },
  {
   "cell_type": "code",
   "execution_count": 15,
   "id": "00bf18ec",
   "metadata": {},
   "outputs": [],
   "source": [
    "# unit testing\n",
    "# w = np.random.randn(5)\n",
    "# w0 = 5\n",
    "# w[0] = w0\n",
    "# norm = L2_norm(w)\n",
    "# print(norm)"
   ]
  },
  {
   "cell_type": "markdown",
   "id": "731f08ab",
   "metadata": {},
   "source": [
    "### 8. Write a function to compute the gradient of L2 norm with respect to the weight vectors.\n",
    "\n",
    "a) Input: X matrix and w vector\n",
    "\n",
    "b) Output: gradient vector, where gradient with respect to w0 is 0."
   ]
  },
  {
   "cell_type": "code",
   "execution_count": 16,
   "id": "5444b828",
   "metadata": {},
   "outputs": [],
   "source": [
    "# The function takes in the input matrix X and weight vector w,\n",
    "# calculates the L2 norm of the weight vector, and \n",
    "# then calculates the gradient vector.\n",
    "# The gradient with respect to the first element of the weight vector (w0) is set to 0.\n",
    "def L2_norm_gradient(X, w):\n",
    "    # calculate the L2 norm of the weight vector\n",
    "    L2norm = L2_norm(w)\n",
    "    # calculate the gradient vector\n",
    "    grad = 2 * w / L2norm\n",
    "    # set the gradient with respect to w0 to 0\n",
    "    grad[0] = 0\n",
    "    return grad\n"
   ]
  },
  {
   "cell_type": "code",
   "execution_count": 17,
   "id": "869b555a",
   "metadata": {},
   "outputs": [],
   "source": [
    "# unit testing\n",
    "# X = data_matrix(100,5)\n",
    "# w = np.random.randn(5)\n",
    "# w0 = 5\n",
    "# w[0] = w0\n",
    "# grad = L2_norm_gradient(X,w)\n",
    "# print(grad)"
   ]
  },
  {
   "cell_type": "markdown",
   "id": "62193de7",
   "metadata": {},
   "source": [
    "### 9. Write a function to compute L1 norm of a vector w passed as a numpy array. Exclude bias w0."
   ]
  },
  {
   "cell_type": "code",
   "execution_count": 18,
   "id": "14522def",
   "metadata": {},
   "outputs": [],
   "source": [
    "# This function uses numpy's abs function to take the absolute value of each element\n",
    "# in the array, and then uses the sum function to add up all of the absolute values.\n",
    "# The slice w[1:] is to exclude the bias term w0.\n",
    "#define a function to compute L1 norm\n",
    "def L1_norm(w):\n",
    "    norm = np.abs(w[1:]).sum()\n",
    "    return norm"
   ]
  },
  {
   "cell_type": "code",
   "execution_count": 19,
   "id": "114d517c",
   "metadata": {},
   "outputs": [],
   "source": [
    "# unit testing\n",
    "# w = np.random.randn(5)\n",
    "# w0 = 5\n",
    "# w[0] = w0\n",
    "# norm = L1_norm(w)\n",
    "# print(norm)"
   ]
  },
  {
   "cell_type": "markdown",
   "id": "93731715",
   "metadata": {},
   "source": [
    "### 10. Write a function to compute the gradient of L1 norm with respect to the weight vectors.\n",
    "\n",
    "a) Input: X matrix and w vector\n",
    "\n",
    "b) Output: gradient vector, where gradient with respect to w0 is 0."
   ]
  },
  {
   "cell_type": "code",
   "execution_count": 20,
   "id": "d03b01e4",
   "metadata": {},
   "outputs": [],
   "source": [
    "# The function takes in the input matrix X and weight vector w,\n",
    "# calculates the L2 norm of the weight vector, and \n",
    "# then calculates the gradient vector.\n",
    "# The gradient with respect to the first element of the weight vector (w0) is set to 0.\n",
    "def L1_norm_gradient(X, w):\n",
    "    # calculate the L1 norm of the weight vector\n",
    "    L1norm = L1_norm(w)\n",
    "    # calculate the gradient vector\n",
    "    grad = 2 * w / L1norm\n",
    "    # set the gradient with respect to w0 to 0\n",
    "    grad[0] = 0\n",
    "    return grad"
   ]
  },
  {
   "cell_type": "code",
   "execution_count": 21,
   "id": "edf67660",
   "metadata": {},
   "outputs": [],
   "source": [
    "# unit testing\n",
    "# X = data_matrix(100,5)\n",
    "# w = np.random.randn(5)\n",
    "# w0 = 5\n",
    "# w[0] = w0\n",
    "# grad = L1_norm_gradient(X,w)\n",
    "# print(grad)"
   ]
  },
  {
   "cell_type": "markdown",
   "id": "d1d559a4",
   "metadata": {},
   "source": [
    "### 11. Write a function for a single update of weights of linear regression using gradient descent.\n",
    "\n",
    "a) Input: X, t, w, eta, lambda 2, lambda 1. Note that the weight of MSE will be 1\n",
    "\n",
    "b) Output: updated weight and updated MSE"
   ]
  },
  {
   "cell_type": "code",
   "execution_count": 22,
   "id": "657efd16",
   "metadata": {},
   "outputs": [],
   "source": [
    "# This function takes input X, t, w, eta, lambda 2, lambda 1 and \n",
    "# will update the weights using gradient descent with L1 and L2 regularization.\n",
    "# It will output the updated weight and the mean squared error.\n",
    "# It uses the equation : w = w - eta*(X.T @ error + lambda_2w + lambda_1np.sign(w))\n",
    "# eta = 0.2\n",
    "# lambda_1=L1_norm(w)\n",
    "# lambda_2=L2_norm(w)\n",
    "\n",
    "# define a function for a single update of weights of linear regression using gradient descent.\n",
    "def linear_regression_update(X, t, w, eta, lambda_2, lambda_1):\n",
    "    y = linear_reg_estim(X,w) #calculating y by calling linear regression estimation  function\n",
    "    gradient = 2 * np.dot(X.T, (y - t)) / X.shape[0] + 2 * lambda_2 * w + lambda_1 * np.sign(w)\n",
    "    #gradient = X.T @ error + lambda_2*w + lambda_1*np.sign(w)\n",
    "    w = w - eta*gradient\n",
    "    y = linear_reg_estim(X,w) # recalculating y from new weight\n",
    "    t = depend_t(X,w,w0,eta) #calling depend_t function to calculate target variable\n",
    "    mse = MSE(y,t) #calculating MSE by calling MSE function\n",
    "    return w, mse"
   ]
  },
  {
   "cell_type": "code",
   "execution_count": 23,
   "id": "9c556c4a",
   "metadata": {},
   "outputs": [],
   "source": [
    "# unit testing\n",
    "# X = data_matrix(100,5)\n",
    "# w = np.random.randn(5)\n",
    "# eta = 0.2\n",
    "# lambda_1=L1_norm(w)\n",
    "# lambda_2=L2_norm(w)\n",
    "# std_dev = 0.1\n",
    "# w0 = 5\n",
    "# t = depend_t(X,w,w0,std_dev)\n",
    "# w,mse = linear_regression_update(X, t, w, eta, lambda_2, lambda_1)\n",
    "# print(w,mse)"
   ]
  },
  {
   "cell_type": "markdown",
   "id": "c339838a",
   "metadata": {},
   "source": [
    "### 12. Write a function to estimate the weights of linear regression using gradient descent.\n",
    "\n",
    "a) Inputs: X, t, lambda2 (default 0), lambda1 (default 0), eta, max_iter, min_change_NRMSE\n",
    "\n",
    "b) Output: Final w, final RMSE normalized with respect to variance of t.\n",
    "\n",
    "c) Stopping criteria: Either max_iter has been reached, or the normalized RMSE does not change by more than min_change_NRMSE"
   ]
  },
  {
   "cell_type": "code",
   "execution_count": 24,
   "id": "cbecb5c8",
   "metadata": {},
   "outputs": [],
   "source": [
    "# This function takes the input X and t (target values) and the hyperparameters lambda2, lambda1, eta (learning rate),\n",
    "# max_iter (maximum number of iterations), and min_change_NRMSE (minimum change in normalized root mean squared error).\n",
    "# It returns the final weight vector w and the final normalized root mean squared error.\n",
    "# The stopping criteria are either reaching the maximum number of iterations \n",
    "# or the change in normalized root mean squared error is less than the minimum change.\n",
    "\n",
    "#define a a function to estimate the weights of linear regression using gradient descent\n",
    "def linear_regression_weights_gd(X, t, lambda2, lambda1, eta, max_iter, min_change_NRMSE):\n",
    "    w = np.zeros(X.shape[1])\n",
    "    t_var = np.var(t) #using numpy to calculate variance of t\n",
    "    RMSE_prev = float(\"inf\")\n",
    "    for i in range(max_iter):\n",
    "        y = linear_reg_estim(X,w)\n",
    "        RMSE = MSE(y,t) / (t_var + 1e-8)\n",
    "        if abs(RMSE - RMSE_prev) < min_change_NRMSE:\n",
    "            break\n",
    "        RMSE_prev = RMSE\n",
    "        w1, RMSE = linear_regression_update(X,t,w,eta,lambda2,lambda1) \n",
    "    return w1, RMSE"
   ]
  },
  {
   "cell_type": "code",
   "execution_count": 25,
   "id": "ee153d23",
   "metadata": {},
   "outputs": [],
   "source": [
    "#unit testing\n",
    "# std_dev = 0.1\n",
    "# X = data_matrix(100,5)\n",
    "# w0 = 2\n",
    "# w = np.random.randn(5)\n",
    "# t = depend_t(X,w,w0,std_dev)\n",
    "# w1,RMSE = linear_regression_weights_gd(X,t,0,0,0.1,100,0.0001)\n",
    "# print(w1,RMSE)"
   ]
  },
  {
   "cell_type": "markdown",
   "id": "abed9937",
   "metadata": {},
   "source": [
    "### 13. Run multiple experiments (with different random seeds) for, plot the results of (box plots), and comment on the trends and potential reasons for the following relations:\n",
    "\n",
    "#### a) Training and validation NRMSE obtained using pseudo inverse with number of training samples.\n",
    "\n",
    "\n"
   ]
  },
  {
   "cell_type": "code",
   "execution_count": 66,
   "id": "8f320f0f",
   "metadata": {},
   "outputs": [],
   "source": [
    "# Define a function to calculate NRMSE\n",
    "def NRMSE(t_train,t_pred):\n",
    "    return np.sqrt(np.mean((t_train - t_pred)**2)) / np.std(t_train) #using formula for calculating NRMSE\n",
    "\n",
    "# define a function to split into training and validation data\n",
    "def split(x,t,train_frac):\n",
    "    N = X.shape[0] #sample size\n",
    "    N_train= int(N*train_frac) \n",
    "    N_val = N - N_train\n",
    "    indices = np.arange(N)\n",
    "    # Split data into training and validation sets\n",
    "    indices = np.random .permutation(indices)\n",
    "    X_train = X[indices[:N_train]]\n",
    "    t_train = t[indices[:N_train]]\n",
    "    X_val = X[indices[N_train:]]\n",
    "    t_val = t[indices[N_train:]]\n",
    "    return X_train,t_train,X_val,t_val\n",
    "\n",
    "#define a function to calculate Training and validation NRMSE obtained using pseudo inverse with number of training samples.\n",
    "def experiment_Pseudo(X,t,lamda,training_samples,train_frac):\n",
    "    # Initialize arrays to store NRMSE results for each experiment\n",
    "    training_nrmse = np.zeros(training_samples)\n",
    "    validation_nrmse = np.zeros(training_samples)\n",
    "    for i in range(training_samples):\n",
    "        X_train , t_train , X_val , t_val = split(X,t,train_frac)\n",
    "        w1,_,_ = linear_regression_pinv(X_train,t_train,lamda)\n",
    "        w2,_,_ = linear_regression_pinv(X_val,t_val,lamda)\n",
    "        # Calculate NRMSE for training and validation data\n",
    "        t_pred_train =linear_reg_estim(X_train , w1)\n",
    "        t_pred_val =linear_reg_estim(X_val , w2)\n",
    "        # Store NRMSE results\n",
    "        training_nrmse[i] = NRMSE(t_train,t_pred_train)\n",
    "        validation_nrmse[i] = NRMSE(t_val,t_pred_val)\n",
    "    return training_nrmse,validation_nrmse  \n"
   ]
  },
  {
   "cell_type": "code",
   "execution_count": 77,
   "id": "f7bb1f79",
   "metadata": {},
   "outputs": [
    {
     "data": {
      "image/png": "[encoded data removed]",
      "text/plain": [
       "<Figure size 432x288 with 1 Axes>"
      ]
     },
     "metadata": {
      "needs_background": "light"
     },
     "output_type": "display_data"
    }
   ],
   "source": [
    "# initializing terms\n",
    "std_dev = 0.1\n",
    "np.random.seed(1)\n",
    "N = 100\n",
    "D = 5\n",
    "X = data_matrix(N,D)\n",
    "w0 = 2\n",
    "w = np.random.randn(D)\n",
    "t = depend_t(X,w,w0,std_dev)\n",
    "n_experiments = 10\n",
    "lamda = 0.01\n",
    "train_frac = 0.2\n",
    "start_trials = 20\n",
    "#define a empty list\n",
    "val = []\n",
    "#define x axis label for plot\n",
    "label= [\"{}\".format(x*start_trials)for x in range(1,n_experiments+1)]\n",
    "\n",
    "#running a for loop to get different training validation nrmse for different number of variables\n",
    "for training_samples in range(10,110,10):\n",
    "    #calling experiment psedo function to get training and validation samples\n",
    "    training_nrmse, validation_nrmse = experiment_Pseudo(X,t,lamda,training_samples,train_frac)\n",
    "    val.append(validation_nrmse)#adding validation nrmse in the list\n",
    "#ploting boxplot   \n",
    "fig, ax = plt.subplots()\n",
    "ax.boxplot(val)\n",
    "ax.set_xticklabels(label)\n",
    "ax.set_ylabel('NRMSE')\n",
    "ax.set_xlabel('Number of samples')\n",
    "plt.title(\"validation NRMSE obtained using pseudo inverse with number of training samples\")\n",
    "plt.show()\n",
    "\n",
    "\n",
    "# we can absorb from the plot that as we increase the number of samples the median of the Nrmse become more stable\n",
    "# and nrmse decrease a little bit because as we increse number of samples the model will train and set the validation\n",
    "# data in better way "
   ]
  },
  {
   "cell_type": "markdown",
   "id": "597d87e9",
   "metadata": {},
   "source": [
    "#### b) Training and validation NRMSE obtained using pseudo inverse with number of variables."
   ]
  },
  {
   "cell_type": "code",
   "execution_count": 85,
   "id": "e06fddec",
   "metadata": {},
   "outputs": [
    {
     "data": {
      "image/png": "[encoded data removed]",
      "text/plain": [
       "<Figure size 432x288 with 1 Axes>"
      ]
     },
     "metadata": {
      "needs_background": "light"
     },
     "output_type": "display_data"
    }
   ],
   "source": [
    "#initializing terms\n",
    "np.random.seed(1)\n",
    "N = 100\n",
    "D = 5\n",
    "std_dev = 0.1\n",
    "X = data_matrix(N,D)\n",
    "w0 = 5\n",
    "w = np.random.randn(D)\n",
    "t = depend_t(X,w,w0,std_dev)\n",
    "lamda = 0.01\n",
    "train_frac = 0.2\n",
    "num_trails = 20\n",
    "#define a empty list\n",
    "val =[]\n",
    "#define x axis label for plot\n",
    "label= [\"vari:{}\".format(X) for X in range(10,51,10)]\n",
    "\n",
    "#running a for loop to get different training validation nrmse for different number of variables\n",
    "for num_var in range(10,51,10):\n",
    "    training_nrmse, validation_nrmse = experiment_Pseudo(X[:,:num_var],t,lamda,num_trails,train_frac)\n",
    "    val.append(validation_nrmse)#adding validation nrmse in the list\n",
    "#ploting boxplot  \n",
    "fig, ax = plt.subplots()\n",
    "ax.boxplot(val)\n",
    "ax.set_xticklabels(label)\n",
    "ax.set_ylabel('NRMSE')\n",
    "ax.set_xlabel('Number of variables')\n",
    "plt.title(\"validation NRMSE obtained using pseudo inverse with number of variables\")\n",
    "plt.show()\n",
    "# we can absorb from the plot that as we increase the number of variables there is an almost constant behaviour in \n",
    "# the plot because  as we change  the number of variables there is no much effect in nrmse"
   ]
  },
  {
   "cell_type": "markdown",
   "id": "9fd17ee6",
   "metadata": {},
   "source": [
    "#### c) Training and validation NRMSE obtained using pseudo inverse with noise variance."
   ]
  },
  {
   "cell_type": "code",
   "execution_count": 89,
   "id": "aac80ff9",
   "metadata": {},
   "outputs": [
    {
     "data": {
      "image/png": "[encoded data removed]",
      "text/plain": [
       "<Figure size 432x288 with 1 Axes>"
      ]
     },
     "metadata": {
      "needs_background": "light"
     },
     "output_type": "display_data"
    }
   ],
   "source": [
    "#initializing terms\n",
    "np.random.seed(1)\n",
    "N = 100\n",
    "D = 5\n",
    "std_dev = 0.1\n",
    "X = data_matrix(N,D)\n",
    "w0 = 5\n",
    "w = np.random.randn(D)\n",
    "#define a empty list\n",
    "val = []\n",
    "#define x axis label for plot\n",
    "label = [\"vars:{}\".format(X/10) for X in range(1,6,1)]\n",
    "\n",
    "#running a for loop to get different training validation nrmse for different noise variance\n",
    "for var in range(1,6,1):\n",
    "    t = depend_t(X,w,w0,float(var/10))\n",
    "    training_nrmse, validation_nrmse = experiment_Pseudo(X,t,lamda,num_trails,train_frac)\n",
    "    val.append(validation_nrmse)#adding validation nrmse in the list\n",
    "#ploting boxplot  \n",
    "fig, ax = plt.subplots()\n",
    "ax.boxplot(val)\n",
    "ax.set_xticklabels(label)\n",
    "ax.set_ylabel('NRMSE')\n",
    "ax.set_xlabel('noise variance')\n",
    "plt.title(\"validation NRMSE obtained using pseudo inverse with noise varinace\")\n",
    "plt.show()"
   ]
  },
  {
   "cell_type": "markdown",
   "id": "85c8b1ee",
   "metadata": {},
   "source": [
    "#### d)Training and validation NRMSE obtained using pseudo inverse with w0."
   ]
  },
  {
   "cell_type": "code",
   "execution_count": null,
   "id": "61a39357",
   "metadata": {},
   "outputs": [],
   "source": [
    "np.random.seed(1)\n",
    "N = 100\n",
    "D = 5\n",
    "std_dev = 0.1\n",
    "X = data_matrix(N,D)\n",
    "w0 = 5\n",
    "w = np.random.randn(D)\n",
    "val = []\n",
    "label = [\"trails:{}\".format(X) for X in range(1,11,2)]\n",
    "\n",
    "for var in range(1,11,2):\n",
    "    w[0] = w0 \n",
    "    training_nrmse, validation_nrmse = experiment_Pseudo(X,t,lamda,num_trails,train_frac)\n",
    "    val.append(validation_nrmse)\n",
    "    \n",
    "fig, ax = plt.subplots()\n",
    "ax.boxplot(val)\n",
    "ax.set_xticklabels(label)\n",
    "ax.set_ylabel('NRMSE')\n",
    "plt.title(\"validation NRMSE obtained using pseudo inverse with w0.\")\n",
    "plt.show()"
   ]
  },
  {
   "cell_type": "markdown",
   "id": "2f6d5fd3",
   "metadata": {},
   "source": [
    "#### e) Training and validation NRMSE obtained using pseudo inverse with lambda2."
   ]
  },
  {
   "cell_type": "code",
   "execution_count": null,
   "id": "b6adc315",
   "metadata": {},
   "outputs": [],
   "source": [
    "np.random.seed(0)\n",
    "N = 100\n",
    "D = 5\n",
    "w0 = 5\n",
    "std_dev = 0.1\n",
    "lamda2 = []\n",
    "for i in range(1,6):\n",
    "    np.random.seed(i)\n",
    "    X = data_matrix(N,D)\n",
    "    w = np.random.randn(D)\n",
    "    lamda2.append(L2_norm(w))\n",
    "    \n",
    "val = []\n",
    "label = [\"lamda2_{}\".format(X) for X in range(1,6)]\n",
    "\n",
    "for var_L2 in lamda2: \n",
    "    training_nrmse, validation_nrmse_lamda2 = experiment_Pseudo(X,t,var_L2,num_trails,train_frac)\n",
    "    val.append(validation_nrmse_lamda2)\n",
    "\n",
    "optimal_lamda2 = lamda2[np.argmin(validation_nrmse_lamda2)]\n",
    "fig, ax = plt.subplots()\n",
    "ax.boxplot(val)\n",
    "ax.set_xticklabels(label)\n",
    "ax.set_ylabel('NRMSE')\n",
    "plt.title(\"NRMSE obtained using pseudo inverse with lambda2\")\n",
    "plt.show()"
   ]
  },
  {
   "cell_type": "markdown",
   "id": "1c3ed145",
   "metadata": {},
   "source": [
    "#### f) Time taken to solve pseudo inverse with number of samples and number of variables and its breaking points."
   ]
  },
  {
   "cell_type": "code",
   "execution_count": null,
   "id": "a3e8e155",
   "metadata": {},
   "outputs": [],
   "source": [
    "def pseudo_inv(X):\n",
    "    I = np.identity(X.shape[1]) #np.identity for the identity matrix\n",
    "    # Calculate the weights\n",
    "    #this function uses the numpy library and its function np.linalg.pinv for the pseudo-inverse calculation\n",
    "    p = np.linalg.pinv(X.T @ X) @ X.T\n",
    "    return p\n",
    "\n",
    "samples = np.arange(10,1000,10)\n",
    "variable = np.arange(10,1000,10)\n",
    "\n",
    "time_taken = []\n",
    "\n",
    "for i in range(len(samples)):\n",
    "    X = data_matrix(samples[i],variable[i])\n",
    "    #to get starting time\n",
    "    start_t = time.time()    \n",
    "    #calling pseudo inverse function to calculate pseudo inverse of different samples\n",
    "    pseudo_inverse = pseudo_inv(X)\n",
    "    #to get end time \n",
    "    end_t = time.time()\n",
    "    #calculate time taken for one iteration and append in the list\n",
    "    timetaken = (end_t-start_t)\n",
    "    time_taken.append(timetaken)\n",
    "\n",
    "plt.scatter(samples,variable,c=time_taken,cmap='viridis')\n",
    "plt.colorbar()\n",
    "plt.ylabel('number of variables')\n",
    "plt.xlabel('number of samples')\n",
    "plt.show()\n",
    "    \n",
    "\n",
    "    "
   ]
  },
  {
   "cell_type": "markdown",
   "id": "2da273d5",
   "metadata": {},
   "source": [
    "#### g) Training and validation NRMSE obtained using gradient descent with max_iter"
   ]
  },
  {
   "cell_type": "code",
   "execution_count": null,
   "id": "5d1f61fc",
   "metadata": {},
   "outputs": [],
   "source": [
    "def experiment_gradient_max_iter(max_iter,X,t,lamda,training_samples,train_frac):\n",
    "    # Initialize arrays to store NRMSE results for each experiment\n",
    "    training_nrmse = np.zeros(training_samples)\n",
    "    validation_nrmse = np.zeros(training_samples)\n",
    "    for i in range(training_samples):\n",
    "        X_train , t_train , X_val , t_val = split(X,t,train_frac)\n",
    "        w,_ = linear_regression_weights_gd(X_train,t_train,lamda2,lamda1,eta,max_iter,min_change_NRMSE)\n",
    "        # w = np.linalg.pinv(X_train).dot(t_train)\n",
    "        # Calculate NRMSE for traini,wng and validation data\n",
    "        t_pred_train =linear_reg_estim(X_train,w)\n",
    "        t_pred_val =linear_reg_estim(X_val,w)\n",
    "        # Store NRMSE results\n",
    "        training_nrmse[i] = NRMSE(t_train,t_pred_train)\n",
    "        validation_nrmse[i] = NRMSE(t_val,t_pred_val)\n",
    "    return training_nrmse,validation_nrmse \n",
    "\n",
    "np.random.seed(1)\n",
    "N = 100\n",
    "D = 5\n",
    "std_dev = 0.1\n",
    "X = data_matrix(N,D)\n",
    "w0 = 5\n",
    "w = np.random.randn(D)\n",
    "lamda2=0\n",
    "lamda1=0\n",
    "eta = 0.2\n",
    "max_iter = 10\n",
    "min_change_NRMSE = 0.0001\n",
    "\n",
    "val = []\n",
    "\n",
    "label = [\"max_iter:{}\".format(X) for X in range(10,210,20)]\n",
    "\n",
    "for max_iter in range(10,210,20):\n",
    "    training_nrmse, validation_nrmse = experiment_gradient_max_iter(max_iter,X,t,lamda,num_trails,train_frac)\n",
    "    val.append(validation_nrmse)\n",
    "    \n",
    "fig, ax = plt.subplots(figsize=(12,5))\n",
    "ax.boxplot(val)\n",
    "ax.set_xticklabels(label)\n",
    "ax.set_ylabel('NRMSE')\n",
    "plt.title(\"validation NRMSE obtained using gradient descent with max_iter\")\n",
    "plt.show()\n",
    "\n"
   ]
  },
  {
   "cell_type": "code",
   "execution_count": null,
   "id": "82dc76d9",
   "metadata": {},
   "outputs": [],
   "source": []
  },
  {
   "cell_type": "code",
   "execution_count": null,
   "id": "eb4e545c",
   "metadata": {},
   "outputs": [],
   "source": []
  },
  {
   "cell_type": "code",
   "execution_count": null,
   "id": "5e810cd9",
   "metadata": {},
   "outputs": [],
   "source": []
  },
  {
   "cell_type": "code",
   "execution_count": null,
   "id": "fb6461e5",
   "metadata": {},
   "outputs": [],
   "source": []
  },
  {
   "cell_type": "markdown",
   "id": "eb607620",
   "metadata": {},
   "source": [
    "#### h) Training and validation NRMSE obtained using gradient descent with eta "
   ]
  },
  {
   "cell_type": "code",
   "execution_count": null,
   "id": "8ec208bc",
   "metadata": {},
   "outputs": [],
   "source": [
    "def experiment_gradient_eta(eta,X,t,lamda,training_samples,train_frac):\n",
    "    # Initialize arrays to store NRMSE results for each experiment\n",
    "    training_nrmse = np.zeros(training_samples)\n",
    "    validation_nrmse = np.zeros(training_samples)\n",
    "    for i in range(training_samples):\n",
    "        X_train , t_train , X_val , t_val = split(X,t,train_frac)\n",
    "        w,_ = linear_regression_weights_gd(X_train,t_train,lamda2,lamda1,eta,max_iter,min_change_NRMSE)\n",
    "        # w = np.linalg.pinv(X_train).dot(t_train)\n",
    "        # Calculate NRMSE for traini,wng and validation data\n",
    "        t_pred_train =linear_reg_estim(X_train,w)\n",
    "        t_pred_val =linear_reg_estim(X_val,w)\n",
    "        # Store NRMSE results\n",
    "        training_nrmse[i] = NRMSE(t_train,t_pred_train)\n",
    "        validation_nrmse[i] = NRMSE(t_val,t_pred_val)\n",
    "    return training_nrmse,validation_nrmse \n",
    "\n",
    "np.random.seed(1)\n",
    "N = 100\n",
    "D = 5\n",
    "std_dev = 0.1\n",
    "X = data_matrix(N,D)\n",
    "w0 = 5\n",
    "w = np.random.randn(D)\n",
    "lamda2=0\n",
    "lamda1=0\n",
    "max_iter = 10\n",
    "min_change_NRMSE = 0.0001\n",
    "\n",
    "val = []\n",
    "\n",
    "label = [\"eta_{}\".format(X/100) for X in range(10,210,20)]\n",
    "\n",
    "for eta in range(10,210,20):\n",
    "    training_nrmse, validation_nrmse = experiment_gradient_eta(eta/100,X,t,lamda,num_trails,train_frac)\n",
    "    val.append(validation_nrmse)\n",
    "    \n",
    "fig, ax = plt.subplots(figsize=(10,5))\n",
    "ax.boxplot(val)\n",
    "ax.set_xticklabels(label)\n",
    "ax.set_ylabel('NRMSE')\n",
    "plt.title(\"validation NRMSE obtained using gradient descent with max_iter\")\n",
    "plt.show()\n"
   ]
  },
  {
   "cell_type": "markdown",
   "id": "705b05b1",
   "metadata": {},
   "source": [
    "#### i) Time taken to solve gradient descent with number of samples and number of variables and its breaking points"
   ]
  },
  {
   "cell_type": "code",
   "execution_count": null,
   "id": "c1605eaa",
   "metadata": {},
   "outputs": [],
   "source": [
    "max_iter = 50\n",
    "min_change_NRMSE = 0.001\n",
    "eta = 0.1\n",
    "lambda_2=1.2\n",
    "lambda_1=1.5\n",
    "\n",
    "# X = data_matrix()\n",
    "def gradient_descent(X, t, lambda2, lambda1, eta, max_iter, min_change_NRMSE):\n",
    "    t_var = np.var(X)\n",
    "    RMSE_prev = float(\"inf\")\n",
    "    for i in range(max_iter):\n",
    "        y = X@w\n",
    "        RMSE = MSE(y,t) / (t_var + 1e-8)\n",
    "        if abs(RMSE - RMSE_prev) < min_change_NRMSE:\n",
    "            break\n",
    "        RMSE_prev = RMSE\n",
    "#         y = X@w\n",
    "        gradient = 2 * np.dot(X.T, (y - t)) / X.shape[0] + 2 * lambda_2 * w + lambda_1 * np.sign(w)\n",
    "    return gradient\n",
    "\n",
    "samples = np.arange(10,1000,20)\n",
    "variable = np.arange(10,1000,20)\n",
    "\n",
    "time_taken = []\n",
    "\n",
    "for i in range(len(samples)):\n",
    "    X = data_matrix(samples[i],variable[i])\n",
    "    w =np.random.randn(variable[i])\n",
    "    t = depend_t(X, w, 5, 0.6)\n",
    "    #to get starting time\n",
    "    start_t = time.time()    \n",
    "    #calling pseudo inverse function to calculate pseudo inverse of different samples\n",
    "    pseudo_inverse = gradient_descent(X,t,0,0,0.1,max_iter,min_change_NRMSE)\n",
    "    #to get end time \n",
    "    end_t = time.time()\n",
    "    #calculate time taken for one iteration and append in the list\n",
    "    timetaken = (end_t-start_t)\n",
    "    time_taken.append(timetaken)\n",
    "\n",
    "plt.scatter(samples,variable,c=time_taken,cmap='viridis')\n",
    "plt.colorbar()\n",
    "plt.ylabel('number of variables')\n",
    "plt.xlabel('number of samples')\n",
    "plt.show()\n",
    "    "
   ]
  },
  {
   "cell_type": "markdown",
   "id": "e4b601fa",
   "metadata": {},
   "source": [
    "#### j) Time taken to solve gradient descent with number of variables and its breaking point"
   ]
  },
  {
   "cell_type": "code",
   "execution_count": null,
   "id": "8e566574",
   "metadata": {},
   "outputs": [],
   "source": [
    "max_iter = 50\n",
    "min_change_NRMSE = 0.001\n",
    "eta = 0.1\n",
    "lambda_2=1.2\n",
    "lambda_1=1.5\n",
    "bais = 5\n",
    "var = 0.1\n",
    "N = 100\n",
    "\n",
    "# X = data_matrix()\n",
    "def gradient_descent(X, t, lambda2, lambda1, eta, max_iter, min_change_NRMSE):\n",
    "    t_var = np.var(X)\n",
    "    RMSE_prev = float(\"inf\")\n",
    "    for i in range(max_iter):\n",
    "        y = X@w\n",
    "        RMSE = MSE(y,t) / (t_var + 1e-8)\n",
    "        if abs(RMSE - RMSE_prev) < min_change_NRMSE:\n",
    "            break\n",
    "        RMSE_prev = RMSE\n",
    "#         y = X@w\n",
    "        gradient = 2 * np.dot(X.T, (y - t)) / X.shape[0] + 2 * lambda_2 * w + lambda_1 * np.sign(w)\n",
    "    return gradient\n",
    "samples = np.arange(10,1000,20)\n",
    "variable = np.arange(10,1000,20)\n",
    "\n",
    "time_taken = []\n",
    "\n",
    "for i in range(len(samples)):\n",
    "    X = data_matrix(N,variable[i])\n",
    "    w =np.random.randn(variable[i])\n",
    "    t = depend_t(X, w, bais, var)\n",
    "    #to get starting time\n",
    "    start_t = time.time()    \n",
    "    #calling pseudo inverse function to calculate pseudo inverse of different samples\n",
    "    pseudo_inverse = gradient_descent(X,t,lambda_2,lambda_1,eta,max_iter,min_change_NRMSE)\n",
    "    #to get end time \n",
    "    end_t = time.time()\n",
    "    #calculate time taken for one iteration and append in the list\n",
    "    timetaken = (end_t-start_t)\n",
    "    time_taken.append(timetaken)\n",
    "\n",
    "plt.scatter(samples,variable,c=time_taken,cmap='viridis')\n",
    "plt.colorbar()\n",
    "plt.ylabel('number of variables')\n",
    "plt.xlabel('number of samples')\n",
    "plt.show()"
   ]
  },
  {
   "cell_type": "markdown",
   "id": "c03dc7ac",
   "metadata": {},
   "source": [
    "#### k) Training and validation NRMSE and number of nearly zero weights obtained using gradient descent with lambda2"
   ]
  },
  {
   "cell_type": "code",
   "execution_count": null,
   "id": "752768f0",
   "metadata": {},
   "outputs": [],
   "source": [
    "def calculate_nearly_zero(w, epsilon=1e-3):\n",
    "    if np.sum(np.abs(w) < epsilon):\n",
    "        return w\n",
    "    \n",
    "def linear_regression_update(X, t, w, eta, lambda_2, lambda_1):\n",
    "    w = np.zeros(X.shape[1])\n",
    "    y = linear_reg_estim(X,w)\n",
    "    gradient = 2 * np.dot(X.T, (y - t)) / X.shape[0] + 2 * lambda_2 * w + lambda_1 * np.sign(w)\n",
    "    w = w - eta*gradient\n",
    "    y = linear_reg_estim(X,w)\n",
    "    t = depend_t(X,w,w0,eta)\n",
    "    mse = MSE(y,t)\n",
    "    return w, mse\n",
    "\n",
    "w = np.zeros(X.shape[1])\n",
    "def linear_regression_nearly_zero_weights_gd_lamda2(X, t, lamda2, lamda1, eta, max_iter, min_change_NRMSE):\n",
    "    t_var = np.var(t)\n",
    "    RMSE_prev = float(\"inf\")\n",
    "    for i in range(max_iter):\n",
    "        y = linear_reg_estim(X,w)\n",
    "        RMSE = MSE(y,t) / (t_var + 1e-8)\n",
    "        if abs(RMSE - RMSE_prev) < min_change_NRMSE:\n",
    "            break\n",
    "        RMSE_prev = RMSE\n",
    "        w2, RMSE = linear_regression_update(X,t,w,eta,lamda2,lamda1)\n",
    "        nzw = calculate_nearly_zero(w2)\n",
    "    return nzw, RMSE\n",
    "\n",
    "# def calculate_nearly_zero(w, epsilon=1e-2):\n",
    "#     return np.sum(np.abs(w) < epsilon)\n",
    "\n",
    "\n",
    "def experiment_gradient_lamda2(X,t,lamda2,eta,training_samples,train_frac):\n",
    "    # Initialize arrays to store NRMSE results for each experiment\n",
    "    training_nrmse = np.zeros(training_samples)\n",
    "    validation_nrmse = np.zeros(training_samples)\n",
    "    for i in range(training_samples):\n",
    "        X_train , t_train , X_val , t_val = split(X,t,train_frac)\n",
    "        \n",
    "#         w,_ = linear_regression_nearly_zero_weights_gd_lamda2(X_train,t_train,lamda2,0,eta,max_iter,min_change_NRMSE)\n",
    "        w = np.zeros(X.shape[1])\n",
    "        # w = np.linalg.pinv(X_train).dot(t_train)\n",
    "        # Calculate NRMSE for traini,wng and validation data\n",
    "        t_pred_train =linear_reg_estim(X_train,w)\n",
    "        t_pred_val =linear_reg_estim(X_val,w)\n",
    "        # Store NRMSE results\n",
    "        training_nrmse[i] = NRMSE(t_train,t_pred_train)\n",
    "        validation_nrmse[i] = NRMSE(t_val,t_pred_val)\n",
    "    return training_nrmse,validation_nrmse \n",
    "\n"
   ]
  },
  {
   "cell_type": "code",
   "execution_count": null,
   "id": "7be72d09",
   "metadata": {},
   "outputs": [],
   "source": [
    "np.random.seed(1)\n",
    "N = 100\n",
    "D = 5\n",
    "std_dev = 0.1\n",
    "eta = 0.1\n",
    "# X = data_matrix(N,D)\n",
    "w0 = 5\n",
    "# w = np.random.randn(D)\n",
    "# lamda1=0\n",
    "max_iter = 100\n",
    "min_change_NRMSE = 0.0001\n",
    "std_dev = 0.1\n",
    "num_trails = 20\n",
    "lamda_2 = []\n",
    "for i in range(1,6):\n",
    "    np.random.seed(i)\n",
    "    X = data_matrix(N,D)\n",
    "    w = np.random.randn(D)\n",
    "    lamda_2.append(L2_norm(w))\n",
    "print(lamda_2)   \n",
    "val = []\n",
    "label = [\"L2_{}\".format(X) for X in range(1,6)]\n",
    "\n",
    "\n",
    "for var_L2 in lamda_2:\n",
    "    training_nrmse, validation_nrmse = experiment_gradient_lamda2(X,t,var_L2,eta,num_trails,train_frac)\n",
    "    val.append(validation_nrmse)\n",
    "#     print(validation_nrmse)\n",
    "    \n",
    "fig, ax = plt.subplots(figsize=(7,5))\n",
    "ax.boxplot(val)\n",
    "ax.set_xticklabels(label)\n",
    "ax.set_ylabel('NRMSE')\n",
    "plt.title(\"validation NRMSE obtained using gradient descent with max_iter\")\n",
    "plt.show()\n",
    "# w1,_ = linear_regression_nearly_zero_weights_gd_lamda2(X,t,0.1,lamda1,eta,max_iter,min_change_NRMSE)\n",
    "# w1\n"
   ]
  },
  {
   "cell_type": "markdown",
   "id": "c3b0f07d",
   "metadata": {},
   "source": [
    "#### l) Training and validation NRMSE and number of nearly zero weights obtained using gradient descent with lambda1"
   ]
  },
  {
   "cell_type": "code",
   "execution_count": null,
   "id": "15f430d8",
   "metadata": {},
   "outputs": [],
   "source": [
    "def calculate_nearly_zero(w, epsilon=1e-3):\n",
    "    if np.sum(np.abs(w) < epsilon):\n",
    "        return w\n",
    "    \n",
    "w = np.zeros(X.shape[1])\n",
    "def linear_regression_nearly_zero_weights_gd_lamda1(X, t, lamda2, lamda1, eta, max_iter, min_change_NRMSE):\n",
    "    w = np.zeros(X.shape[1])\n",
    "    t_var = np.var(t)\n",
    "    RMSE_prev = float(\"inf\")\n",
    "    for i in range(max_iter):\n",
    "        y = linear_reg_estim(X,w)\n",
    "        RMSE = MSE(y,t) / (t_var + 1e-8)\n",
    "        if abs(RMSE - RMSE_prev) < min_change_NRMSE:\n",
    "            break\n",
    "        RMSE_prev = RMSE\n",
    "        w1, RMSE = linear_regression_update(X,t,w,eta,lamda2,lamda1)\n",
    "        nzw = calculate_nearly_zero(w1)\n",
    "    return nzw, RMSE\n",
    "\n",
    "# # def calculate_nearly_zero(w, epsilon=1e-2):\n",
    "# #     return np.sum(np.abs(w) < epsilon)\n",
    "\n",
    "\n",
    "def experiment_gradient_lamda1(X,t,lamda1,eta,training_samples,train_frac):\n",
    "    # Initialize arrays to store NRMSE results for each experiment\n",
    "    training_nrmse = np.zeros(training_samples)\n",
    "    validation_nrmse = np.zeros(training_samples)\n",
    "    for i in range(training_samples):\n",
    "        X_train , t_train , X_val , t_val = split(X,t,train_frac)\n",
    "#         w,_ = linear_regression_nearly_zero_weights_gd_lamda1(X_train,t_train,0,lamda1,eta,max_iter,min_change_NRMSE)\n",
    "        w = np.zeros(X.shape[1])\n",
    "        # w = np.linalg.pinv(X_train).dot(t_train)\n",
    "        # Calculate NRMSE for traini,wng and validation data\n",
    "        t_pred_train =linear_reg_estim(X_train,w)\n",
    "        t_pred_val =linear_reg_estim(X_val,w)\n",
    "        # Store NRMSE results\n",
    "        training_nrmse[i] = NRMSE(t_train,t_pred_train)\n",
    "        validation_nrmse[i] = NRMSE(t_val,t_pred_val)\n",
    "#         print(validation_nrmse)\n",
    "    return training_nrmse,validation_nrmse \n",
    "\n"
   ]
  },
  {
   "cell_type": "code",
   "execution_count": null,
   "id": "8641e985",
   "metadata": {},
   "outputs": [],
   "source": [
    "np.random.seed(1)\n",
    "N = 100\n",
    "D = 5\n",
    "std_dev = 0.1\n",
    "eta = 0.1\n",
    "X = data_matrix(N,D)\n",
    "w0 = 5\n",
    "w = np.random.randn(D)\n",
    "# lamda2=0\n",
    "max_iter = 100\n",
    "min_change_NRMSE = 0.0001\n",
    "std_dev = 0.1\n",
    "num_trails = 20\n",
    "lamda_1 = []\n",
    "for i in range(1,6):\n",
    "    np.random.seed(i)\n",
    "    X = data_matrix(N,D)\n",
    "    w = np.random.randn(D)\n",
    "    lamda_1.append(L1_norm(w))\n",
    "    \n",
    "val = []\n",
    "label = [\"L1_{}\".format(X) for X in range(1,6)]\n",
    "# print(lamda_1)\n",
    "\n",
    "for var_L1 in lamda_1:\n",
    "    training_nrmse, validation_nrmse = experiment_gradient_lamda1(X,t,var_L1,eta,num_trails,train_frac)\n",
    "    val.append(validation_nrmse)\n",
    "#     print(validation_nrmse)\n",
    "fig, ax = plt.subplots(figsize=(7,5))\n",
    "ax.boxplot(val)\n",
    "ax.set_xticklabels(label)\n",
    "ax.set_ylabel('NRMSE')\n",
    "plt.title(\"validation NRMSE obtained using gradient descent with max_iter\")\n",
    "plt.show()\n",
    "# w1,_ = linear_regression_nearly_zero_weights_gd_lamda2(X,t,0.1,lamda1,eta,max_iter,min_change_NRMSE)\n",
    "# w1\n",
    "# lamda_1"
   ]
  },
  {
   "cell_type": "markdown",
   "id": "ad12478a",
   "metadata": {},
   "source": [
    "#### m) Training and validation NRMSE for optimal lambda2 with noise variance "
   ]
  },
  {
   "cell_type": "code",
   "execution_count": null,
   "id": "4ab571fb",
   "metadata": {},
   "outputs": [],
   "source": [
    "np.random.seed(1)\n",
    "N = 100\n",
    "D = 5\n",
    "std_dev = 0.1\n",
    "X = data_matrix(N,D)\n",
    "w0 = 5\n",
    "w = np.random.randn(D)\n",
    "# optimal_lamda2 = lamda2[np.argmin(validation_nrmse_lamda2)]\n",
    "val = []\n",
    "\n",
    "label = [\"vars:{}\".format(X/10) for X in range(2,11,2)]\n",
    "\n",
    "for var in range(2,11,2):\n",
    "    t = depend_t(X,w,w0,float(var/10))\n",
    "    training_nrmse, validation_nrmse = experiment_Pseudo(X,t,optimal_lamda2,num_trails,train_frac)\n",
    "    val.append(validation_nrmse)\n",
    "    \n",
    "fig, ax = plt.subplots()\n",
    "ax.boxplot(val)\n",
    "ax.set_xticklabels(label)\n",
    "ax.set_ylabel('NRMSE')\n",
    "plt.title(\"Number of trails\")\n",
    "plt.show()\n"
   ]
  },
  {
   "cell_type": "markdown",
   "id": "72c7296e",
   "metadata": {},
   "source": [
    "#### n) Training and validation NRMSE for optimal lambda1 with noise variance"
   ]
  },
  {
   "cell_type": "code",
   "execution_count": null,
   "id": "98f4860c",
   "metadata": {},
   "outputs": [],
   "source": [
    "np.random.seed(1)\n",
    "N = 100\n",
    "D = 5\n",
    "std_dev = 0.1\n",
    "X = data_matrix(N,D)\n",
    "w0 = 5\n",
    "w = np.random.randn(D)\n",
    "lamda1 = []\n",
    "for i in range(1,6):\n",
    "    np.random.seed(i)\n",
    "    X = data_matrix(N,D)\n",
    "    w = np.random.randn(D)\n",
    "    lamda1.append(L1_norm(w))\n",
    "    \n",
    "val = []\n",
    "label = [\"lamda_{}\".format(X) for X in range(1,6)]\n",
    "\n",
    "for var_L1 in lamda1: \n",
    "    training_nrmse, validation_nrmse_lamda1 = experiment_Pseudo(X,t,var_L1,num_trails,train_frac)\n",
    "    val.append(validation_nrmse_lamda1)\n",
    "\n",
    "optimal_lamda1 = lamda1[np.argmin(validation_nrmse_lamda1)]\n",
    "val_ = []\n",
    "\n",
    "label = [\"vars:{}\".format(X/10) for X in range(2,11,2)]\n",
    "\n",
    "for var in range(2,11,2):\n",
    "    t = depend_t(X,w,w0,float(var/10))\n",
    "    training_nrmse, validation_nrmse = experiment_Pseudo(X,t,optimal_lamda1,num_trails,train_frac)\n",
    "    val_.append(validation_nrmse)\n",
    "    \n",
    "fig, ax = plt.subplots()\n",
    "ax.boxplot(val)\n",
    "ax.set_xticklabels(label)\n",
    "ax.set_ylabel('NRMSE')\n",
    "plt.title(\"validation NRMSE for optimal lambda1 with noise variance\")\n",
    "plt.show()"
   ]
  },
  {
   "cell_type": "markdown",
   "id": "bc9e0da5",
   "metadata": {},
   "source": [
    "#### o) Experiment (f) but, this time with number of training samples and number of variables"
   ]
  },
  {
   "cell_type": "code",
   "execution_count": null,
   "id": "e2fb563e",
   "metadata": {},
   "outputs": [],
   "source": [
    "# def split(X,t,train_frac):\n",
    "#     N = X.shape[0]\n",
    "#     N_train= int(N*train_frac)\n",
    "#     indices = np.arange(N)\n",
    "#     # Split data into training and validation sets\n",
    "#     indices = np.random .permutation(indices)\n",
    "#     X_train = X[indices[:N_train]]\n",
    "#     t_train = t[indices[:N_train]]\n",
    "#     return X_train\n",
    "\n",
    "samples = np.arange(10,100,10)\n",
    "train_frac = np.arange(0.1,1,0.1)\n",
    "\n",
    "time_taken = []\n",
    "\n",
    "for i in range(len(samples)):\n",
    "    train_samples= int(samples[i]*train_frac[i])\n",
    "    indices = np.arange(samples[i])\n",
    "    # Split data into training and validation sets\n",
    "    indices = np.random.permutation(indices)\n",
    "    X_train = X[indices[:train_samples]]\n",
    "    #to get starting time\n",
    "    start_t = time.time()    \n",
    "    #calling pseudo inverse function to calculate pseudo inverse of different samples\n",
    "    pseudo_inverse = pseudo_inv(X_train)\n",
    "    #to get end time \n",
    "    end_t = time.time()\n",
    "    #calculate time taken for one iteration and append in the list\n",
    "    timetaken = (end_t-start_t)\n",
    "    time_taken.append(timetaken)\n",
    "\n",
    "plt.scatter(samples,train_frac,c=time_taken,cmap='viridis')\n",
    "plt.colorbar()\n",
    "plt.ylabel('training fraction')\n",
    "plt.xlabel('number of samples')\n",
    "plt.show()\n",
    "    "
   ]
  },
  {
   "cell_type": "code",
   "execution_count": null,
   "id": "138b4161",
   "metadata": {},
   "outputs": [],
   "source": []
  },
  {
   "cell_type": "code",
   "execution_count": null,
   "id": "13b0db9c",
   "metadata": {},
   "outputs": [],
   "source": []
  },
  {
   "cell_type": "code",
   "execution_count": null,
   "id": "46f4f6db",
   "metadata": {},
   "outputs": [],
   "source": []
  }
 ],
 "metadata": {
  "kernelspec": {
   "display_name": "Python 3 (ipykernel)",
   "language": "python",
   "name": "python3"
  },
  "language_info": {
   "codemirror_mode": {
    "name": "ipython",
    "version": 3
   },
   "file_extension": ".py",
   "mimetype": "text/x-python",
   "name": "python",
   "nbconvert_exporter": "python",
   "pygments_lexer": "ipython3",
   "version": "3.9.12"
  }
 },
 "nbformat": 4,
 "nbformat_minor": 5
}
